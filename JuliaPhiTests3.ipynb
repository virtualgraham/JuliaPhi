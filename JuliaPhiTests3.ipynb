{
 "cells": [
  {
   "cell_type": "code",
   "execution_count": 8,
   "id": "382bde04-2921-4e60-8db3-699d62521212",
   "metadata": {
    "tags": []
   },
   "outputs": [
    {
     "data": {
      "text/plain": [
       "2"
      ]
     },
     "execution_count": 8,
     "metadata": {},
     "output_type": "execute_result"
    }
   ],
   "source": [
    "const ○ = 1 # 𝟘 ○ OFF\n",
    "const ● = 2 # 𝟙 ● ON"
   ]
  },
  {
   "cell_type": "code",
   "execution_count": 9,
   "id": "c36da66d-665a-4ee9-820d-969d6fa109dd",
   "metadata": {},
   "outputs": [
    {
     "data": {
      "text/plain": [
       "8"
      ]
     },
     "execution_count": 9,
     "metadata": {},
     "output_type": "execute_result"
    }
   ],
   "source": [
    "state_count = 4\n",
    "\n",
    "# state by state flat \n",
    "p = \n",
    "Float64[\n",
    "#              ○ ● ○ ● ○ ● ○ ● ○ ● ○ ● ○ ● ○ ●\n",
    "#              ○ ○ ● ● ○ ○ ● ● ○ ○ ● ● ○ ○ ● ●\n",
    "#              ○ ○ ○ ○ ● ● ● ● ○ ○ ○ ○ ● ● ● ●\n",
    "#              ○ ○ ○ ○ ○ ○ ○ ○ ● ● ● ● ● ● ● ●    \n",
    "#= ○ ○ ○ ○ =#  1 0 0 0 0 0 0 0 0 0 0 0 0 0 0 0;\n",
    "#= ● ○ ○ ○ =#  0 0 0 0 1 0 0 0 0 0 0 0 0 0 0 0;\n",
    "#= ○ ● ○ ○ =#  0 0 0 0 0 1 0 0 0 0 0 0 0 0 0 0;\n",
    "#= ● ● ○ ○ =#  0 1 0 0 0 0 0 0 0 0 0 0 0 0 0 0;\n",
    "#= ○ ○ ● ○ =#  0 1 0 0 0 0 0 0 0 0 0 0 0 0 0 0;\n",
    "#= ● ○ ● ○ =#  0 0 0 0 0 0 0 1 0 0 0 0 0 0 0 0;\n",
    "#= ○ ● ● ○ =#  0 0 0 0 0 1 0 0 0 0 0 0 0 0 0 0;\n",
    "#= ● ● ● ○ =#  0 0 0 1 0 0 0 0 0 0 0 0 0 0 0 0;\n",
    "#= ○ ○ ○ ● =#  0 0 0 0 0 0 0 0 0 1 0 0 0 0 0 0;\n",
    "#= ● ○ ○ ● =#  0 0 0 0 0 0 0 0 0 0 0 0 0 1 0 0;\n",
    "#= ○ ● ○ ● =#  0 0 0 0 0 0 0 0 0 0 0 0 0 1 0 0;\n",
    "#= ● ● ○ ● =#  0 0 0 0 0 0 0 0 0 1 0 0 0 0 0 0;\n",
    "#= ○ ○ ● ● =#  0 0 0 0 0 0 0 0 0 1 0 0 0 0 0 0;\n",
    "#= ● ○ ● ● =#  0 0 0 0 0 0 0 0 0 0 0 0 0 0 0 1;\n",
    "#= ○ ● ● ● =#  0 0 0 0 0 0 0 0 0 0 0 0 0 1 0 0;\n",
    "#= ● ● ● ● =#  0 0 0 0 0 0 0 0 0 0 0 1 0 0 0 0;\n",
    "]\n",
    "q = reshape(p, (ntuple(x->2, state_count*2)));\n",
    "length(size(q))"
   ]
  },
  {
   "cell_type": "code",
   "execution_count": 53,
   "id": "f654844b-bcb9-4a67-8044-2e184f46e3b6",
   "metadata": {},
   "outputs": [
    {
     "data": {
      "text/plain": [
       "marginalize (generic function with 1 method)"
      ]
     },
     "execution_count": 53,
     "metadata": {},
     "output_type": "execute_result"
    }
   ],
   "source": [
    "mutable struct TPM\n",
    "    tpm\n",
    "    elements # vector of elements\n",
    "    next_state_elements_index # index in vector where the next_state elements start\n",
    "end\n",
    "\n",
    "\n",
    "function make_tpm(flat, elements)\n",
    "    @assert size(flat) == (length(elements)^2, length(elements)^2)\n",
    "    \n",
    "    TPM(\n",
    "        reshape(flat, (ntuple(x->2, length(elements)*2))),\n",
    "        [elements..., elements...],\n",
    "        length(elements)+1\n",
    "    )\n",
    "end\n",
    "\n",
    "\n",
    "function tpm_element_dim(tpm, element, current)\n",
    "    current ? element_dim(tpm.elements, element) : element_dim(tpm.elements, element, tpm.next_state_elements_index)\n",
    "end\n",
    "\n",
    "function element_dim(elements, element, start_at)\n",
    "    findnext(==(element), elements, start_at)\n",
    "end\n",
    "\n",
    "function remove_element(elements, element, start_at=1)\n",
    "    deleteat!(copy(elements), element_dim(elements, element, start_at))\n",
    "end\n",
    "    \n",
    "    \n",
    "\n",
    "function current_state_count(tpm)\n",
    "    tpm.next_state_elements_index-1\n",
    "end\n",
    "\n",
    "function next_state_count(tpm)\n",
    "    length(tpm.elements) - tpm.next_state_elements_index + 1\n",
    "end\n",
    "    \n",
    "    \n",
    "function flatten_tpm(tpm)\n",
    "    println(current_state_count(tpm), \" \", next_state_count(tpm))\n",
    "    reshape(tpm.tpm, 2^current_state_count(tpm), 2^next_state_count(tpm)) \n",
    "end\n",
    "\n",
    "    \n",
    "function fix_condition(tpm, element, current, value) \n",
    "    @assert value == ○ || value == ●\n",
    "    \n",
    "    len = length(size(tpm.tpm))\n",
    "    \n",
    "    dim = tpm_element_dim(tpm, element, current)\n",
    "    current_count = tpm.next_state_elements_index - 1\n",
    "    \n",
    "    tpm2 = tpm.tpm[ntuple(x->Colon(), dim-1)..., value, ntuple(x->Colon(), len-dim)...]\n",
    "    tpm3 = tpm2 ./ sum(tpm2, dims=(current ? [current_count:len-1...] : [current_count+1:len-1...])) # normailizing rows\n",
    "\n",
    "    elements = remove_element(tpm.elements, element, current ? 1 : tpm.next_state_elements_index)\n",
    "    next_state_elements_index = current ? (tpm.next_state_elements_index - 1) : tpm.next_state_elements_index\n",
    "    \n",
    "    TPM(tpm3, elements, next_state_elements_index)\n",
    "end \n",
    "\n",
    "function marginalize(tpm, element, current) \n",
    "    println(\"marginalize\", size(tpm.tpm), element, current ? \"Current\" : \"Next\")\n",
    "    len = length(size(tpm.tpm))\n",
    "    \n",
    "    dim = tpm_element_dim(tpm, element, current)\n",
    "        \n",
    "    current_count = tpm.next_state_elements_index - 1\n",
    "   \n",
    "    tpm2 = tpm.tpm[ntuple(x->Colon(), dim-1)..., ○, ntuple(x->Colon(), len-dim)...] + tpm.tpm[ntuple(x->Colon(), dim-1)..., ●, ntuple(x->Colon(), len-dim)...]\n",
    "    tpm3 = tpm2 ./ sum(tpm2, dims=(current ? [current_count:len-1...] : [current_count+1:len-1...])) # normailizing rows\n",
    "    \n",
    "    elements = remove_element(tpm.elements, element, current ? 1 : tpm.next_state_elements_index)\n",
    "    next_state_elements_index = current ? (tpm.next_state_elements_index - 1) : tpm.next_state_elements_index\n",
    "    \n",
    "    TPM(tpm3, elements, next_state_elements_index)\n",
    "end "
   ]
  },
  {
   "cell_type": "code",
   "execution_count": 56,
   "id": "3aae8815-430e-4681-a24b-8e4aa3d178f8",
   "metadata": {},
   "outputs": [
    {
     "name": "stdout",
     "output_type": "stream",
     "text": [
      "System([:a, :b, :c, :d], [2, 1, 1, 1], Dict(:a => 2, :b => 1, :d => 1, :c => 1))\n",
      "TPM([1.0 0.0; 0.0 0.0;;; 0.0 0.0; 0.0 0.0;;;; 0.0 0.0; 0.0 0.0;;; 0.0 0.0; 0.0 0.0;;;;; 0.0 0.0; 0.0 1.0;;; 1.0 0.0; 0.0 0.0;;;; 0.0 0.0; 0.0 0.0;;; 0.0 0.0; 0.0 0.0;;;;;; 0.0 0.0; 0.0 0.0;;; 0.0 0.0; 0.0 0.0;;;; 0.0 0.0; 0.0 0.0;;; 0.0 0.0; 0.0 0.0;;;;; 0.0 0.0; 0.0 0.0;;; 0.0 0.0; 0.0 1.0;;;; 0.0 0.0; 0.0 0.0;;; 0.0 0.0; 0.0 0.0;;;;;;; 0.0 0.0; 1.0 0.0;;; 0.0 0.0; 0.0 0.0;;;; 0.0 0.0; 0.0 0.0;;; 0.0 0.0; 0.0 0.0;;;;; 0.0 1.0; 0.0 0.0;;; 0.0 1.0; 0.0 0.0;;;; 0.0 0.0; 0.0 0.0;;; 0.0 0.0; 0.0 0.0;;;;;; 0.0 0.0; 0.0 0.0;;; 0.0 0.0; 0.0 0.0;;;; 0.0 0.0; 0.0 0.0;;; 0.0 0.0; 0.0 0.0;;;;; 0.0 0.0; 0.0 0.0;;; 0.0 0.0; 1.0 0.0;;;; 0.0 0.0; 0.0 0.0;;; 0.0 0.0; 0.0 0.0;;;;;;;; 0.0 0.0; 0.0 0.0;;; 0.0 0.0; 0.0 0.0;;;; 0.0 0.0; 0.0 0.0;;; 0.0 0.0; 0.0 0.0;;;;; 0.0 0.0; 0.0 0.0;;; 0.0 0.0; 0.0 0.0;;;; 1.0 0.0; 0.0 1.0;;; 1.0 0.0; 0.0 0.0;;;;;; 0.0 0.0; 0.0 0.0;;; 0.0 0.0; 0.0 0.0;;;; 0.0 0.0; 0.0 0.0;;; 0.0 0.0; 0.0 0.0;;;;; 0.0 0.0; 0.0 0.0;;; 0.0 0.0; 0.0 0.0;;;; 0.0 0.0; 0.0 0.0;;; 0.0 0.0; 0.0 1.0;;;;;;; 0.0 0.0; 0.0 0.0;;; 0.0 0.0; 0.0 0.0;;;; 0.0 0.0; 0.0 0.0;;; 0.0 0.0; 0.0 0.0;;;;; 0.0 0.0; 0.0 0.0;;; 0.0 0.0; 0.0 0.0;;;; 0.0 1.0; 1.0 0.0;;; 0.0 1.0; 0.0 0.0;;;;;; 0.0 0.0; 0.0 0.0;;; 0.0 0.0; 0.0 0.0;;;; 0.0 0.0; 0.0 0.0;;; 0.0 0.0; 0.0 0.0;;;;; 0.0 0.0; 0.0 0.0;;; 0.0 0.0; 0.0 0.0;;;; 0.0 0.0; 0.0 0.0;;; 0.0 0.0; 1.0 0.0], [:a, :b, :c, :d, :a, :b, :c, :d], 5)\n",
      "marginalize(2, 2, 2, 2, 2, 2, 2)dNext\n",
      "3 3\n",
      "[1.0 0.0 0.0 0.0 0.0 0.0 0.0 0.0; 0.0 0.0 0.0 0.0 1.0 0.0 0.0 0.0; 0.0 0.0 0.0 0.0 0.0 1.0 0.0 0.0; 0.0 1.0 0.0 0.0 0.0 0.0 0.0 0.0; 0.0 1.0 0.0 0.0 0.0 0.0 0.0 0.0; 0.0 0.0 0.0 0.0 0.0 0.0 0.0 1.0; 0.0 0.0 0.0 0.0 0.0 1.0 0.0 0.0; 0.0 0.0 0.0 1.0 0.0 0.0 0.0 0.0]\n",
      "cause_repertoire\n",
      "marginalize(2, 2, 2, 2, 2, 2)aCurrent\n",
      "marginalize(2, 2, 2, 2, 2)aNext\n",
      "marginalize(2, 2, 2, 2)bNext\n",
      "effect_repertoire\n",
      "marginalize(2, 2, 2, 2, 2, 2)aNext\n",
      "marginalize(2, 2, 2, 2, 2)aCurrent\n",
      "marginalize(2, 2, 2, 2)bCurrent\n",
      "TPM([1.0 1.0; 1.0 1.0], [:b, :c], 3)\n",
      "TPM([0.5 0.5; 0.0 0.0], [:b, :c], 1)\n",
      "2 0\n",
      "[1.0; 1.0; 1.0; 1.0;;]\n",
      "0 2\n",
      "[0.5 0.0 0.5 0.0]\n"
     ]
    }
   ],
   "source": [
    "struct System\n",
    "    elements\n",
    "    states\n",
    "    element_states\n",
    "end\n",
    "\n",
    "function make_system(elements, states)\n",
    "    System(elements, states, Dict([(elements[index], states[index]) for (index, element) in enumerate(elements)]))\n",
    "end\n",
    "\n",
    "\n",
    "struct CandidateMechanism\n",
    "    elements\n",
    "    mechanism_elements\n",
    "    perview_elements\n",
    "end\n",
    "\n",
    "function system_elements(system)\n",
    "    keys(system.element_states)\n",
    "end\n",
    "\n",
    "function external_elements(system, mechanism)\n",
    "    setdiff(system.elements, mechanism.elements)\n",
    "end\n",
    "\n",
    "function fix_elements(tpm, system, elements)\n",
    "    for element in elements\n",
    "        tpm = fix_condition(tpm, element, true, system.element_states[element])\n",
    "        tpm = marginalize(tpm, element, false) \n",
    "    end\n",
    "    tpm\n",
    "end\n",
    "\n",
    "\n",
    "\n",
    "\n",
    "\n",
    "# Cause Repertoire\n",
    "# Marganilize out non perview elements\n",
    "# Marganilize out non mechanism elements\n",
    "\n",
    "# Effect Repertoire\n",
    "# Marganilize out non perview elements\n",
    "# Marganilize out non mechanism elements\n",
    "    \n",
    "function repertoire(tpm, system, mechanism, cause)\n",
    "    # effect repertoire these are t+1\n",
    "    # cause repertoire these are t\n",
    "    for element in setdiff(mechanism.elements, mechanism.perview_elements)\n",
    "        tpm = marginalize(tpm, element, cause)\n",
    "    end\n",
    "    \n",
    "    # effect repertoire these are t\n",
    "    # cause repertoire these are t+1\n",
    "    for element in setdiff(mechanism.elements, mechanism.mechanism_elements)\n",
    "        tpm = marginalize(tpm, element, !cause)\n",
    "    end\n",
    "  \n",
    " \n",
    "    \n",
    "    if !cause\n",
    "        to_fix = intersect(mechanism.mechanism_elements, tpm.elements[tpm.next_state_elements_index:length(tpm.elements)])\n",
    "        for f in to_fix\n",
    "            tpm = fix_condition(tpm, f, true, system.element_states[f]) \n",
    "        end\n",
    "    else\n",
    "        to_fix = intersect(mechanism.mechanism_elements, tpm.elements[1:(tpm.next_state_elements_index-1)])\n",
    "        for f in to_fix\n",
    "            tpm = fix_condition(tpm, f, false, system.element_states[f]) \n",
    "        end\n",
    "    end\n",
    "\n",
    "    tpm\n",
    "end\n",
    "\n",
    "function cause_repertoire(tpm, system, mechanism)\n",
    "    repertoire(tpm, system, mechanism, true)\n",
    "end\n",
    "\n",
    "function effect_repertoire(tpm, system, mechanism)\n",
    "    repertoire(tpm, system, mechanism, false)\n",
    "end\n",
    "\n",
    "\n",
    "system = make_system([:a, :b, :c, :d], [●, ○, ○, ○])\n",
    "\n",
    "println(system)\n",
    "\n",
    "tpm = make_tpm(p, system.elements)\n",
    "\n",
    "println(tpm)\n",
    "\n",
    "mechanism = CandidateMechanism([:a, :b, :c], [:c], [:b, :c])\n",
    "\n",
    "tpm = fix_elements(tpm, system, external_elements(system, mechanism))\n",
    "\n",
    "println(flatten_tpm(tpm))\n",
    "\n",
    "println(\"cause_repertoire\")\n",
    "tpm_cause = cause_repertoire(tpm, system, mechanism)\n",
    "println(\"effect_repertoire\")\n",
    "tpm_effect = effect_repertoire(tpm, system, mechanism)\n",
    "\n",
    "println(tpm_cause)\n",
    "println(tpm_effect)\n",
    "\n",
    "println(flatten_tpm(tpm_cause))\n",
    "println(flatten_tpm(tpm_effect))\n",
    "\n",
    "# tpm_a = fix_condition(tpm_a, :d, true, ○)\n",
    "# tpm_a = marginalize(tpm_a, :d, false)\n",
    "\n",
    "# tpm_b = marginalize(tpm_a, :b, false)\n",
    "# tpm_b = marginalize(tpm_b, :c, false)\n",
    "# tpm_b = marginalize(tpm_b, :a, true)\n",
    "# tpm_b = marginalize(tpm_b, :b, true)\n",
    "# tpm_b = marginalize(tpm_b, :c, true)\n",
    "\n",
    "# tpm_c = marginalize(tpm_a, :a, true)\n",
    "# tpm_c = marginalize(tpm_c, :b, true)\n",
    "\n",
    "# tpm_d = marginalize(tpm_c, :a, false)\n",
    "# tpm_d = fix_condition(tpm_d, :c, true, ○)\n",
    "\n",
    "# tpm_e = marginalize(tpm_c, :b, false)\n",
    "# tpm_e = fix_condition(tpm_e, :c, true, ○)\n",
    "\n",
    "# println(flatten_tpm(tpm_d))\n",
    "# println(flatten_tpm(tpm_e))"
   ]
  },
  {
   "cell_type": "code",
   "execution_count": 45,
   "id": "312479cf-b0d1-4fe9-a8b1-f640a7685b4e",
   "metadata": {},
   "outputs": [
    {
     "data": {
      "text/plain": [
       "TPM([0.5 0.5; 0.5 0.5], [:b, :c], 3)"
      ]
     },
     "execution_count": 45,
     "metadata": {},
     "output_type": "execute_result"
    }
   ],
   "source": [
    "tpm_cause"
   ]
  },
  {
   "cell_type": "code",
   "execution_count": 42,
   "id": "8bf5a836-01c6-4179-8775-f437293d56fc",
   "metadata": {},
   "outputs": [
    {
     "name": "stdout",
     "output_type": "stream",
     "text": [
      "2 0\n"
     ]
    },
    {
     "data": {
      "text/plain": [
       "4×1 Matrix{Float64}:\n",
       " 0.5\n",
       " 0.5\n",
       " 0.5\n",
       " 0.5"
      ]
     },
     "execution_count": 42,
     "metadata": {},
     "output_type": "execute_result"
    }
   ],
   "source": [
    "flatten_tpm(tpm_cause)"
   ]
  },
  {
   "cell_type": "code",
   "execution_count": null,
   "id": "95f5a1da-bddd-474f-8956-374e02980727",
   "metadata": {},
   "outputs": [],
   "source": []
  }
 ],
 "metadata": {
  "kernelspec": {
   "display_name": "Julia 1.7.1",
   "language": "julia",
   "name": "julia-1.7"
  },
  "language_info": {
   "file_extension": ".jl",
   "mimetype": "application/julia",
   "name": "julia",
   "version": "1.7.1"
  }
 },
 "nbformat": 4,
 "nbformat_minor": 5
}
