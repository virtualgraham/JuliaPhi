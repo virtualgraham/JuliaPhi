{
 "cells": [
  {
   "cell_type": "code",
   "execution_count": 1,
   "id": "382bde04-2921-4e60-8db3-699d62521212",
   "metadata": {},
   "outputs": [
    {
     "data": {
      "text/plain": [
       "2"
      ]
     },
     "execution_count": 1,
     "metadata": {},
     "output_type": "execute_result"
    }
   ],
   "source": [
    "const ○ = 1 # 𝟘 ○ OF\n",
    "const ● = 2 # 𝟙 ● ON"
   ]
  },
  {
   "cell_type": "markdown",
   "id": "97cf5882-b49e-4a04-a600-9d7eb1d93855",
   "metadata": {
    "tags": []
   },
   "source": [
    "https://github.com/Jutho/SparseArrayKit.jl"
   ]
  },
  {
   "cell_type": "markdown",
   "id": "5c777e9f-adf5-4165-b3ab-0b48172bab84",
   "metadata": {},
   "source": [
    "https://github.com/wmayner/pyphi\n",
    "https://storage.googleapis.com/plos-corpus-prod/10.1371/journal.pcbi.1006343/2/pcbi.1006343.s001.pdf"
   ]
  },
  {
   "cell_type": "code",
   "execution_count": 25,
   "id": "c36da66d-665a-4ee9-820d-969d6fa109dd",
   "metadata": {},
   "outputs": [],
   "source": [
    "state_count = 4\n",
    "\n",
    "# state by state flat \n",
    "p = \n",
    "Float64[\n",
    "#              ○ ● ○ ● ○ ● ○ ● ○ ● ○ ● ○ ● ○ ●\n",
    "#              ○ ○ ● ● ○ ○ ● ● ○ ○ ● ● ○ ○ ● ●\n",
    "#              ○ ○ ○ ○ ● ● ● ● ○ ○ ○ ○ ● ● ● ●\n",
    "#              ○ ○ ○ ○ ○ ○ ○ ○ ● ● ● ● ● ● ● ●    \n",
    "#= ○ ○ ○ ○ =#  1 0 0 0 0 0 0 0 0 0 0 0 0 0 0 0;\n",
    "#= ● ○ ○ ○ =#  0 0 0 0 1 0 0 0 0 0 0 0 0 0 0 0;\n",
    "#= ○ ● ○ ○ =#  0 0 0 0 0 1 0 0 0 0 0 0 0 0 0 0;\n",
    "#= ● ● ○ ○ =#  0 1 0 0 0 0 0 0 0 0 0 0 0 0 0 0;\n",
    "#= ○ ○ ● ○ =#  0 1 0 0 0 0 0 0 0 0 0 0 0 0 0 0;\n",
    "#= ● ○ ● ○ =#  0 0 0 0 0 0 0 1 0 0 0 0 0 0 0 0;\n",
    "#= ○ ● ● ○ =#  0 0 0 0 0 1 0 0 0 0 0 0 0 0 0 0;\n",
    "#= ● ● ● ○ =#  0 0 0 1 0 0 0 0 0 0 0 0 0 0 0 0;\n",
    "#= ○ ○ ○ ● =#  0 0 0 0 0 0 0 0 0 1 0 0 0 0 0 0;\n",
    "#= ● ○ ○ ● =#  0 0 0 0 0 0 0 0 0 0 0 0 0 1 0 0;\n",
    "#= ○ ● ○ ● =#  0 0 0 0 0 0 0 0 0 0 0 0 0 1 0 0;\n",
    "#= ● ● ○ ● =#  0 0 0 0 0 0 0 0 0 1 0 0 0 0 0 0;\n",
    "#= ○ ○ ● ● =#  0 0 0 0 0 0 0 0 0 1 0 0 0 0 0 0;\n",
    "#= ● ○ ● ● =#  0 0 0 0 0 0 0 0 0 0 0 0 0 0 0 1;\n",
    "#= ○ ● ● ● =#  0 0 0 0 0 0 0 0 0 0 0 0 0 1 0 0;\n",
    "#= ● ● ● ● =#  0 0 0 0 0 0 0 0 0 0 0 1 0 0 0 0;\n",
    "]\n",
    "q = reshape(p, (ntuple(x->2, state_count*2)));"
   ]
  },
  {
   "cell_type": "code",
   "execution_count": 3,
   "id": "366d1663-0946-42af-ae27-2c798202b3a0",
   "metadata": {},
   "outputs": [
    {
     "data": {
      "text/plain": [
       "1×16 Matrix{Float64}:\n",
       " 0.0  0.0  0.0  0.0  0.0  0.0  0.0  0.0  …  0.0  0.0  1.0  0.0  0.0  0.0  0.0"
      ]
     },
     "execution_count": 3,
     "metadata": {},
     "output_type": "execute_result"
    }
   ],
   "source": [
    "#programatically access row with variable state count\n",
    "index = (ntuple(x->●, state_count)..., ntuple(x->Colon(), state_count)...)\n",
    "q[index...]\n",
    "reshape(q[index...], (1,state_count^2))"
   ]
  },
  {
   "cell_type": "code",
   "execution_count": 4,
   "id": "07e38f32-268d-4042-b485-e72c16e87b78",
   "metadata": {},
   "outputs": [
    {
     "data": {
      "text/plain": [
       "1×16 Matrix{Float64}:\n",
       " 0.0  0.0  0.0  0.0  1.0  0.0  0.0  0.0  …  0.0  0.0  0.0  0.0  0.0  0.0  0.0"
      ]
     },
     "execution_count": 4,
     "metadata": {},
     "output_type": "execute_result"
    }
   ],
   "source": [
    "reshape(q[●,○,○,○,:,:,:,:], (1,16)) # extract row"
   ]
  },
  {
   "cell_type": "code",
   "execution_count": 5,
   "id": "6203c5ad-7940-4e47-8719-016085502070",
   "metadata": {},
   "outputs": [
    {
     "data": {
      "text/plain": [
       "16×1 Matrix{Float64}:\n",
       " 0.0\n",
       " 0.0\n",
       " 0.0\n",
       " 1.0\n",
       " 1.0\n",
       " 0.0\n",
       " 0.0\n",
       " 0.0\n",
       " 0.0\n",
       " 0.0\n",
       " 0.0\n",
       " 0.0\n",
       " 0.0\n",
       " 0.0\n",
       " 0.0\n",
       " 0.0"
      ]
     },
     "execution_count": 5,
     "metadata": {},
     "output_type": "execute_result"
    }
   ],
   "source": [
    "reshape(q[:,:,:,:,●,○,○,○], (16,1)) # extract column"
   ]
  },
  {
   "cell_type": "code",
   "execution_count": 6,
   "id": "0ec39704-05b8-45c2-a727-8af1b157d90c",
   "metadata": {},
   "outputs": [
    {
     "data": {
      "text/plain": [
       "16×16 Matrix{Float64}:\n",
       " 1.0  0.0  0.0  0.0  0.0  0.0  0.0  0.0  …  1.0  1.0  1.0  0.0  0.0  0.0  0.0\n",
       " 0.0  0.0  0.0  0.0  1.0  0.0  0.0  0.0     0.0  0.0  0.0  0.0  0.0  0.0  0.0\n",
       " 0.0  0.0  0.0  0.0  0.0  1.0  0.0  0.0     0.0  0.0  0.0  0.0  0.0  0.0  0.0\n",
       " 0.0  1.0  0.0  0.0  0.0  0.0  0.0  0.0     0.0  0.0  0.0  0.0  0.0  0.0  0.0\n",
       " 0.0  1.0  0.0  0.0  0.0  0.0  0.0  0.0     0.0  0.0  0.0  0.0  0.0  0.0  0.0\n",
       " 0.0  0.0  0.0  0.0  0.0  0.0  0.0  1.0  …  0.0  0.0  0.0  0.0  0.0  0.0  0.0\n",
       " 0.0  0.0  0.0  0.0  0.0  1.0  0.0  0.0     0.0  0.0  0.0  0.0  0.0  0.0  0.0\n",
       " 0.0  0.0  0.0  1.0  0.0  0.0  0.0  0.0     0.0  0.0  0.0  0.0  0.0  0.0  0.0\n",
       " 0.0  0.0  0.0  0.0  0.0  0.0  0.0  0.0     1.0  0.0  0.0  0.0  0.0  0.0  0.0\n",
       " 0.0  0.0  0.0  0.0  0.0  0.0  0.0  0.0     0.0  0.0  0.0  0.0  1.0  0.0  0.0\n",
       " 0.0  0.0  0.0  0.0  0.0  0.0  0.0  0.0  …  0.0  0.0  0.0  0.0  1.0  0.0  0.0\n",
       " 0.0  0.0  0.0  0.0  0.0  0.0  0.0  0.0     1.0  0.0  0.0  0.0  0.0  0.0  0.0\n",
       " 0.0  0.0  0.0  0.0  0.0  0.0  0.0  0.0     1.0  0.0  0.0  0.0  0.0  0.0  0.0\n",
       " 0.0  0.0  0.0  0.0  0.0  0.0  0.0  0.0     0.0  0.0  0.0  0.0  0.0  0.0  1.0\n",
       " 0.0  0.0  0.0  0.0  0.0  0.0  0.0  0.0     0.0  0.0  0.0  0.0  1.0  0.0  0.0\n",
       " 0.0  0.0  0.0  0.0  0.0  0.0  0.0  0.0  …  0.0  0.0  1.0  0.0  0.0  0.0  0.0"
      ]
     },
     "execution_count": 6,
     "metadata": {},
     "output_type": "execute_result"
    }
   ],
   "source": [
    "reshape(q, 16, 16)"
   ]
  },
  {
   "cell_type": "code",
   "execution_count": 24,
   "id": "07ef6d32-649e-43b6-a8d8-1f294e2e4d9c",
   "metadata": {},
   "outputs": [
    {
     "data": {
      "text/plain": [
       "8×16 Matrix{Float64}:\n",
       " 1.0  0.0  0.0  0.0  0.0  0.0  0.0  0.0  …  1.0  1.0  1.0  0.0  0.0  0.0  0.0\n",
       " 0.0  0.0  0.0  0.0  1.0  0.0  0.0  0.0     0.0  0.0  0.0  0.0  0.0  0.0  0.0\n",
       " 0.0  0.0  0.0  0.0  0.0  1.0  0.0  0.0     0.0  0.0  0.0  0.0  0.0  0.0  0.0\n",
       " 0.0  1.0  0.0  0.0  0.0  0.0  0.0  0.0     0.0  0.0  0.0  0.0  0.0  0.0  0.0\n",
       " 0.0  1.0  0.0  0.0  0.0  0.0  0.0  0.0     0.0  0.0  0.0  0.0  0.0  0.0  0.0\n",
       " 0.0  0.0  0.0  0.0  0.0  0.0  0.0  1.0  …  0.0  0.0  0.0  0.0  0.0  0.0  0.0\n",
       " 0.0  0.0  0.0  0.0  0.0  1.0  0.0  0.0     0.0  0.0  0.0  0.0  0.0  0.0  0.0\n",
       " 0.0  0.0  0.0  1.0  0.0  0.0  0.0  0.0     0.0  0.0  0.0  0.0  0.0  0.0  0.0"
      ]
     },
     "execution_count": 24,
     "metadata": {},
     "output_type": "execute_result"
    }
   ],
   "source": [
    "q2 = q[:,:,:,○,:,:,:,:] # fixing background conditions\n",
    "reshape(q[:,:,:,○,:,:,:,:], 8, 16)#visual aid"
   ]
  },
  {
   "cell_type": "code",
   "execution_count": 11,
   "id": "2d9c4ef0-ef86-49aa-aa32-ac3f6f9331bd",
   "metadata": {},
   "outputs": [
    {
     "data": {
      "text/plain": [
       "8×8 Matrix{Float64}:\n",
       " 1.0  1.0  1.0  1.0  0.0  0.0  0.0  0.0\n",
       " 0.0  0.0  0.0  0.0  1.0  0.0  0.0  0.0\n",
       " 0.0  0.0  0.0  0.0  0.0  1.0  0.0  0.0\n",
       " 0.0  1.0  0.0  0.0  0.0  0.0  0.0  0.0\n",
       " 0.0  1.0  0.0  0.0  0.0  0.0  0.0  0.0\n",
       " 0.0  0.0  0.0  0.0  0.0  0.0  0.0  1.0\n",
       " 0.0  0.0  0.0  0.0  0.0  1.0  0.0  0.0\n",
       " 0.0  0.0  0.0  1.0  0.0  0.0  0.0  0.0"
      ]
     },
     "execution_count": 11,
     "metadata": {},
     "output_type": "execute_result"
    }
   ],
   "source": [
    "q3 = q2[:,:,:,:,:,:,○] + q2[:,:,:,:,:,:,●] # marganalizing out state\n",
    "reshape(q3, 8, 8) "
   ]
  },
  {
   "cell_type": "code",
   "execution_count": 14,
   "id": "5e85429a-908c-4893-9dfc-796bb17ca20d",
   "metadata": {},
   "outputs": [
    {
     "data": {
      "text/plain": [
       "8×16 Matrix{Float64}:\n",
       " 0.25  0.0  0.0  0.0  0.0  0.0  0.0  0.0  …  0.25  0.25  0.0  0.0  0.0  0.0\n",
       " 0.0   0.0  0.0  0.0  1.0  0.0  0.0  0.0     0.0   0.0   0.0  0.0  0.0  0.0\n",
       " 0.0   0.0  0.0  0.0  0.0  1.0  0.0  0.0     0.0   0.0   0.0  0.0  0.0  0.0\n",
       " 0.0   1.0  0.0  0.0  0.0  0.0  0.0  0.0     0.0   0.0   0.0  0.0  0.0  0.0\n",
       " 0.0   1.0  0.0  0.0  0.0  0.0  0.0  0.0     0.0   0.0   0.0  0.0  0.0  0.0\n",
       " 0.0   0.0  0.0  0.0  0.0  0.0  0.0  1.0  …  0.0   0.0   0.0  0.0  0.0  0.0\n",
       " 0.0   0.0  0.0  0.0  0.0  1.0  0.0  0.0     0.0   0.0   0.0  0.0  0.0  0.0\n",
       " 0.0   0.0  0.0  1.0  0.0  0.0  0.0  0.0     0.0   0.0   0.0  0.0  0.0  0.0"
      ]
     },
     "execution_count": 14,
     "metadata": {},
     "output_type": "execute_result"
    }
   ],
   "source": [
    "q4 = q2 ./ sum(q2, dims=(4,5,6,7)) # normailizing rows\n",
    "reshape(q4, 8, 16) \n",
    "# (4,5,6,7) are all the dimensions representing t+1 states\n",
    "# reshaping is just for visual clarity here"
   ]
  },
  {
   "cell_type": "code",
   "execution_count": null,
   "id": "01f621fd-14a1-4954-9f8b-f03833a554c8",
   "metadata": {},
   "outputs": [],
   "source": []
  }
 ],
 "metadata": {
  "kernelspec": {
   "display_name": "Julia 1.7.1",
   "language": "julia",
   "name": "julia-1.7"
  },
  "language_info": {
   "file_extension": ".jl",
   "mimetype": "application/julia",
   "name": "julia",
   "version": "1.7.1"
  }
 },
 "nbformat": 4,
 "nbformat_minor": 5
}
