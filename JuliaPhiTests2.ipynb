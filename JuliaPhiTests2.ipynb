{
 "cells": [
  {
   "cell_type": "code",
   "execution_count": 2,
   "id": "382bde04-2921-4e60-8db3-699d62521212",
   "metadata": {
    "tags": []
   },
   "outputs": [
    {
     "data": {
      "text/plain": [
       "2"
      ]
     },
     "execution_count": 2,
     "metadata": {},
     "output_type": "execute_result"
    }
   ],
   "source": [
    "const ○ = 1 # 𝟘 ○ OF\n",
    "const ● = 2 # 𝟙 ● ON"
   ]
  },
  {
   "cell_type": "code",
   "execution_count": 61,
   "id": "c36da66d-665a-4ee9-820d-969d6fa109dd",
   "metadata": {},
   "outputs": [
    {
     "data": {
      "text/plain": [
       "8"
      ]
     },
     "execution_count": 61,
     "metadata": {},
     "output_type": "execute_result"
    }
   ],
   "source": [
    "state_count = 4\n",
    "\n",
    "# state by state flat \n",
    "p = \n",
    "Float64[\n",
    "#              ○ ● ○ ● ○ ● ○ ● ○ ● ○ ● ○ ● ○ ●\n",
    "#              ○ ○ ● ● ○ ○ ● ● ○ ○ ● ● ○ ○ ● ●\n",
    "#              ○ ○ ○ ○ ● ● ● ● ○ ○ ○ ○ ● ● ● ●\n",
    "#              ○ ○ ○ ○ ○ ○ ○ ○ ● ● ● ● ● ● ● ●    \n",
    "#= ○ ○ ○ ○ =#  1 0 0 0 0 0 0 0 0 0 0 0 0 0 0 0;\n",
    "#= ● ○ ○ ○ =#  0 0 0 0 1 0 0 0 0 0 0 0 0 0 0 0;\n",
    "#= ○ ● ○ ○ =#  0 0 0 0 0 1 0 0 0 0 0 0 0 0 0 0;\n",
    "#= ● ● ○ ○ =#  0 1 0 0 0 0 0 0 0 0 0 0 0 0 0 0;\n",
    "#= ○ ○ ● ○ =#  0 1 0 0 0 0 0 0 0 0 0 0 0 0 0 0;\n",
    "#= ● ○ ● ○ =#  0 0 0 0 0 0 0 1 0 0 0 0 0 0 0 0;\n",
    "#= ○ ● ● ○ =#  0 0 0 0 0 1 0 0 0 0 0 0 0 0 0 0;\n",
    "#= ● ● ● ○ =#  0 0 0 1 0 0 0 0 0 0 0 0 0 0 0 0;\n",
    "#= ○ ○ ○ ● =#  0 0 0 0 0 0 0 0 0 1 0 0 0 0 0 0;\n",
    "#= ● ○ ○ ● =#  0 0 0 0 0 0 0 0 0 0 0 0 0 1 0 0;\n",
    "#= ○ ● ○ ● =#  0 0 0 0 0 0 0 0 0 0 0 0 0 1 0 0;\n",
    "#= ● ● ○ ● =#  0 0 0 0 0 0 0 0 0 1 0 0 0 0 0 0;\n",
    "#= ○ ○ ● ● =#  0 0 0 0 0 0 0 0 0 1 0 0 0 0 0 0;\n",
    "#= ● ○ ● ● =#  0 0 0 0 0 0 0 0 0 0 0 0 0 0 0 1;\n",
    "#= ○ ● ● ● =#  0 0 0 0 0 0 0 0 0 0 0 0 0 1 0 0;\n",
    "#= ● ● ● ● =#  0 0 0 0 0 0 0 0 0 0 0 1 0 0 0 0;\n",
    "]\n",
    "q = reshape(p, (ntuple(x->2, state_count*2)));\n",
    "length(size(q))"
   ]
  },
  {
   "cell_type": "code",
   "execution_count": 6,
   "id": "3cc8f5f3-c844-48da-8df3-cb8499220ff0",
   "metadata": {},
   "outputs": [
    {
     "data": {
      "text/plain": [
       "8×8 Matrix{Float64}:\n",
       " 1.0  0.0  0.0  0.0  0.0  0.0  0.0  0.0\n",
       " 0.0  0.0  0.0  0.0  1.0  0.0  0.0  0.0\n",
       " 0.0  0.0  0.0  0.0  0.0  1.0  0.0  0.0\n",
       " 0.0  1.0  0.0  0.0  0.0  0.0  0.0  0.0\n",
       " 0.0  1.0  0.0  0.0  0.0  0.0  0.0  0.0\n",
       " 0.0  0.0  0.0  0.0  0.0  0.0  0.0  1.0\n",
       " 0.0  0.0  0.0  0.0  0.0  1.0  0.0  0.0\n",
       " 0.0  0.0  0.0  1.0  0.0  0.0  0.0  0.0"
      ]
     },
     "execution_count": 6,
     "metadata": {},
     "output_type": "execute_result"
    }
   ],
   "source": [
    "# candidate system ABC fixing D\n",
    "q2 = q[:,:,:,○,:,:,:,:] # fixing background condition D at t\n",
    "q3 = q2[:,:,:,:,:,:,○] + q2[:,:,:,:,:,:,●] # marganalizing out state D at t+1\n",
    "q4 = q3 ./ sum(q3, dims=(4,5,6)) # normailizing rows\n",
    "reshape(q4, 8, 8) "
   ]
  },
  {
   "cell_type": "code",
   "execution_count": 28,
   "id": "c73172ad-c9bb-4f98-b569-f22f97aef927",
   "metadata": {},
   "outputs": [
    {
     "data": {
      "text/plain": [
       "2-element Vector{Float64}:\n",
       " 0.25\n",
       " 0.75"
      ]
     },
     "execution_count": 28,
     "metadata": {},
     "output_type": "execute_result"
    }
   ],
   "source": [
    "# Mechanism C over purview BC\n",
    "\n",
    "# Feed in a uniform distribution to A's inputs\n",
    "\n",
    "q5 = q4[:,:,:,:,○,:] + q4[:,:,:,:,●,:] # marganilize out B at t+1\n",
    "q6 = q5 ./ sum(q5, dims=(4,5)) # normailizing rows\n",
    "\n",
    "q7 = q6[:,:,:,:,○] + q6[:,:,:,:,●] # marganilize out C at t + 1\n",
    "q8 = q7 ./ sum(q7, dims=(4)) # normailizing rows\n",
    "\n",
    "q9 = q8[○,:,:,:] + q8[●,:,:,:] # marganilize out A at t - 1\n",
    "q10 = q9 ./ sum(q9, dims=(3)) # normailizing rows\n",
    "\n",
    "q11 = q10[○,:,:] + q10[●,:,:] # marganilize out B at t - 1\n",
    "q12 = q11 ./ sum(q11, dims=(2)) # normailizing rows\n",
    "\n",
    "q13 = q12[○,:] + q12[●,:] # marganilize out C at t - 1\n",
    "q14 = q13 ./ sum(q13, dims=(1)) # normailizing rows\n"
   ]
  },
  {
   "cell_type": "code",
   "execution_count": 104,
   "id": "f654844b-bcb9-4a67-8044-2e184f46e3b6",
   "metadata": {},
   "outputs": [
    {
     "data": {
      "text/plain": [
       "marganilize (generic function with 1 method)"
      ]
     },
     "execution_count": 104,
     "metadata": {},
     "output_type": "execute_result"
    }
   ],
   "source": [
    "mutable struct TPM\n",
    "    tpm\n",
    "    current_elements # element to tpm dimension index\n",
    "    next_elements # element to tpm dimension index\n",
    "end\n",
    "\n",
    "\n",
    "function make_tpm(flat, elements)\n",
    "    @assert size(flat) == (length(elements)^2, length(elements)^2)\n",
    "    \n",
    "    TPM(\n",
    "        reshape(flat, (ntuple(x->2, length(elements)*2))),\n",
    "        Dict([(value, index) for (index, value) in enumerate(elements)]),\n",
    "        Dict([(value, index + length(elements)) for (index, value) in enumerate(elements)])\n",
    "    )\n",
    "end\n",
    "\n",
    "function adjust_dims(elements, removed_dim)\n",
    "\n",
    "    Dict([dim > removed_dim ? (element, dim-1) : (element, dim) for (element, dim) in elements])\n",
    "end\n",
    "\n",
    "function flatten_tpm(tpm)\n",
    "    reshape(tpm.tpm, 2^length(tpm.current_elements), 2^length(tpm.next_elements)) \n",
    "end\n",
    "\n",
    "function fix_condition(tpm, element, current, value) \n",
    "    @assert value == ○ || value == ●\n",
    "    \n",
    "    dim = current ? tpm.current_elements[element] : tpm.next_elements[element]\n",
    "    tpm2 = tpm.tpm[ntuple(x->Colon(), dim-1)..., value, ntuple(x->Colon(), len-dim)...]\n",
    "    \n",
    "    current_elements = adjust_dims(tpm.current_elements, dim)\n",
    "    next_elements = adjust_dims(tpm.next_elements, dim)\n",
    "\n",
    "    delete!(current ? current_elements : next_elements, element)\n",
    "    \n",
    "    TPM(tpm2, current_elements, next_elements)\n",
    "end \n",
    "\n",
    "function marganilize(tpm, element, current) \n",
    "    len = length(size(tpm.tpm))\n",
    "    \n",
    "    dim = current ? tpm.current_elements[element] : tpm.next_elements[element]\n",
    "    \n",
    "    current_count = length(tpm.current_elements)\n",
    "   \n",
    "    tpm2 = tpm.tpm[ntuple(x->Colon(), dim-1)..., ○, ntuple(x->Colon(), len-dim)...] + tpm.tpm[ntuple(x->Colon(), dim-1)..., ●, ntuple(x->Colon(), len-dim)...]\n",
    "    tpm3 = tpm2 ./ sum(tpm2, dims=(current ? [current_count:len-1...] : [current_count+1:len-1...])) # normailizing rows\n",
    "    \n",
    "    current_elements = adjust_dims(tpm.current_elements, dim)\n",
    "    next_elements = adjust_dims(tpm.next_elements, dim)\n",
    "    \n",
    "    delete!(current ? current_elements : next_elements, element)\n",
    "\n",
    "    TPM(tpm3, current_elements, next_elements)\n",
    "end "
   ]
  },
  {
   "cell_type": "code",
   "execution_count": 108,
   "id": "3aae8815-430e-4681-a24b-8e4aa3d178f8",
   "metadata": {},
   "outputs": [
    {
     "data": {
      "text/plain": [
       "1×2 Matrix{Float64}:\n",
       " 0.25  0.75"
      ]
     },
     "execution_count": 108,
     "metadata": {},
     "output_type": "execute_result"
    }
   ],
   "source": [
    "tpm_a = make_tpm(p, [:a, :b, :c, :d])\n",
    "tpm_a = fix_condition(tpm_a, :d, true, ○)\n",
    "tpm_a = marganilize(tpm_a, :d, false)\n",
    "tpm_a = marganilize(tpm_a, :b, false)\n",
    "tpm_a = marganilize(tpm_a, :c, false)\n",
    "tpm_a = marganilize(tpm_a, :a, true)\n",
    "tpm_a = marganilize(tpm_a, :b, true)\n",
    "tpm_a = marganilize(tpm_a, :c, true)\n",
    "flatten_tpm(tpm_a)"
   ]
  },
  {
   "cell_type": "code",
   "execution_count": 55,
   "id": "22efc411-7c0a-4fa1-916d-74ff41fc2f0d",
   "metadata": {},
   "outputs": [
    {
     "ename": "LoadError",
     "evalue": "AssertionError: m > 0 && m <= len",
     "output_type": "error",
     "traceback": [
      "AssertionError: m > 0 && m <= len",
      "",
      "Stacktrace:",
      " [1] top-level scope",
      "   @ In[55]:4",
      " [2] eval",
      "   @ ./boot.jl:373 [inlined]",
      " [3] include_string(mapexpr::typeof(REPL.softscope), mod::Module, code::String, filename::String)",
      "   @ Base ./loading.jl:1196"
     ]
    }
   ],
   "source": [
    "t_states = 4\n",
    "m=9\n",
    "len = length(size(q))\n",
    "t_1_states = len - t_states\n",
    "\n",
    "q2 = q[ntuple(x->Colon(), m-1)..., ○, ntuple(x->Colon(), len-m)...] + q[ntuple(x->Colon(), m-1)..., ●, ntuple(x->Colon(), len-m)...]\n",
    "q2 ./ sum(q2, dims=(m > t_states ? [t_states+1:len-1...] : [t_states:len-1...])) # normailizing rows\n",
    "\n",
    "reshape(q2, 16, 8)"
   ]
  },
  {
   "cell_type": "code",
   "execution_count": 59,
   "id": "6ac4c5c9-0a06-4b61-8253-6cb215c96a6e",
   "metadata": {},
   "outputs": [
    {
     "data": {
      "text/plain": [
       "3"
      ]
     },
     "execution_count": 59,
     "metadata": {},
     "output_type": "execute_result"
    }
   ],
   "source": [
    "length([1,1,1])"
   ]
  },
  {
   "cell_type": "code",
   "execution_count": 60,
   "id": "9606be28-0fd1-42dd-bb01-47af09d6b1f7",
   "metadata": {},
   "outputs": [
    {
     "data": {
      "text/plain": [
       ":a"
      ]
     },
     "execution_count": 60,
     "metadata": {},
     "output_type": "execute_result"
    }
   ],
   "source": [
    ":a"
   ]
  },
  {
   "cell_type": "code",
   "execution_count": null,
   "id": "ae0fb034-c5f8-4930-9a29-74868e0f13ee",
   "metadata": {},
   "outputs": [],
   "source": []
  }
 ],
 "metadata": {
  "kernelspec": {
   "display_name": "Julia 1.7.1",
   "language": "julia",
   "name": "julia-1.7"
  },
  "language_info": {
   "file_extension": ".jl",
   "mimetype": "application/julia",
   "name": "julia",
   "version": "1.7.1"
  }
 },
 "nbformat": 4,
 "nbformat_minor": 5
}
